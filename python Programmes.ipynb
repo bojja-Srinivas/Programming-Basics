{
 "cells": [
  {
   "cell_type": "markdown",
   "id": "99e8bb9f-8e2e-4031-8d61-e8d235ae22fa",
   "metadata": {},
   "source": [
    "programme 1"
   ]
  },
  {
   "cell_type": "code",
   "execution_count": 38,
   "id": "7e192b25-120b-421a-bb4b-60e62a154402",
   "metadata": {},
   "outputs": [
    {
     "name": "stdin",
     "output_type": "stream",
     "text": [
      "Enter the number 11\n"
     ]
    },
    {
     "name": "stdout",
     "output_type": "stream",
     "text": [
      "11 is a prime number.\n"
     ]
    }
   ],
   "source": [
    "num=int(input(\"Enter the number\"))\n",
    "def prime_is(num):\n",
    "    if num<=1:\n",
    "        return False\n",
    "    for i in range(2,int(num**0.5)+1):\n",
    "        if num%i==0:\n",
    "            return False\n",
    "    return True\n",
    "if prime_is(num):\n",
    "    print(f\"{num} is a prime number.\")\n",
    "else:\n",
    "    print(f\"{num} is not a prime number.\")"
   ]
  },
  {
   "cell_type": "markdown",
   "id": "c5755fb3-03e3-4ec7-be18-212d97ed4d07",
   "metadata": {},
   "source": [
    "programme 2"
   ]
  },
  {
   "cell_type": "code",
   "execution_count": 42,
   "id": "68e71030-a411-4399-b540-b2e5538e0c0b",
   "metadata": {},
   "outputs": [
    {
     "name": "stdout",
     "output_type": "stream",
     "text": [
      "the first number 13 and the second number is 38\n"
     ]
    },
    {
     "name": "stdin",
     "output_type": "stream",
     "text": [
      "enter the product of these numbers: 494\n"
     ]
    },
    {
     "name": "stdout",
     "output_type": "stream",
     "text": [
      "congratulations entered value is correct:\n"
     ]
    }
   ],
   "source": [
    "import random\n",
    "r1=random.randint(1,100)#import random number in between 1 to 99\n",
    "r2=random.randint(1,100)\n",
    "print(f\"the first number {r1} and the second number is {r2}\")\n",
    "p=int(input(\"enter the product of these numbers:\"))\n",
    "if p==r1*r2:#check the product is correct or not\n",
    "    print(\"congratulations entered value is correct:\")\n",
    "else:\n",
    "    print(\"can you check the answer again\")"
   ]
  },
  {
   "cell_type": "markdown",
   "id": "6b9212a2-4ec5-4b1d-b7cf-a668772b9fbc",
   "metadata": {},
   "source": [
    "programme 3"
   ]
  },
  {
   "cell_type": "code",
   "execution_count": 11,
   "id": "4ebedb58-0c26-4b62-b20e-de2253c1be49",
   "metadata": {},
   "outputs": [
    {
     "name": "stdout",
     "output_type": "stream",
     "text": [
      "100 10000\n",
      "102 10404\n",
      "104 10816\n",
      "106 11236\n",
      "108 11664\n",
      "110 12100\n",
      "112 12544\n",
      "114 12996\n",
      "116 13456\n",
      "118 13924\n",
      "120 14400\n",
      "122 14884\n",
      "124 15376\n",
      "126 15876\n",
      "128 16384\n",
      "130 16900\n",
      "132 17424\n",
      "134 17956\n",
      "136 18496\n",
      "138 19044\n",
      "140 19600\n",
      "142 20164\n",
      "144 20736\n",
      "146 21316\n",
      "148 21904\n",
      "150 22500\n",
      "152 23104\n",
      "154 23716\n",
      "156 24336\n",
      "158 24964\n",
      "160 25600\n",
      "162 26244\n",
      "164 26896\n",
      "166 27556\n",
      "168 28224\n",
      "170 28900\n",
      "172 29584\n",
      "174 30276\n",
      "176 30976\n",
      "178 31684\n",
      "180 32400\n",
      "182 33124\n",
      "184 33856\n",
      "186 34596\n",
      "188 35344\n",
      "190 36100\n",
      "192 36864\n",
      "194 37636\n",
      "196 38416\n",
      "198 39204\n",
      "200 40000\n"
     ]
    }
   ],
   "source": [
    "for i in range(100,201):\n",
    "    if i%2==0:#even number squares\n",
    "        print(i,i**2)\n",
    "    "
   ]
  },
  {
   "cell_type": "markdown",
   "id": "d06d7d20-61cf-47cc-a383-041cf04c74ce",
   "metadata": {},
   "source": [
    "Programme 4"
   ]
  },
  {
   "cell_type": "code",
   "execution_count": 25,
   "id": "766c8bf6-060f-428d-b4c1-9fc876951b4b",
   "metadata": {},
   "outputs": [
    {
     "name": "stdout",
     "output_type": "stream",
     "text": [
      "this:2\n",
      "is:1\n",
      "a:1\n",
      "sample:1\n",
      "text.:1\n",
      "text:1\n",
      "will:1\n",
      "be:1\n",
      "used:1\n",
      "to:1\n",
      "demonstrate:1\n",
      "the:1\n",
      "word:1\n",
      "counter.:1\n"
     ]
    }
   ],
   "source": [
    "text=\"This is a sample text. This text will be used to demonstrate the word counter.\"\n",
    "word=text.split()\n",
    "word_count={}\n",
    "for i in word:\n",
    "    word1=i.strip(\"., \")\n",
    "    word1=i.lower()\n",
    "    word_count[word1]=word_count.get(word1,0)+1\n",
    "for word,count in word_count.items():\n",
    "    print(f\"{word}:{count}\")\n",
    "    "
   ]
  },
  {
   "cell_type": "markdown",
   "id": "a9422dc5-da0a-4067-90d8-6387905f4a3f",
   "metadata": {},
   "source": [
    "Programme 5"
   ]
  },
  {
   "cell_type": "code",
   "execution_count": 44,
   "id": "27820e4e-a483-4539-baa9-084244d87046",
   "metadata": {},
   "outputs": [
    {
     "name": "stdin",
     "output_type": "stream",
     "text": [
      "enter the text for checking palindrome: sas\n"
     ]
    },
    {
     "name": "stdout",
     "output_type": "stream",
     "text": [
      "Yes it is palindrome and the Entered String is sas:\n"
     ]
    }
   ],
   "source": [
    "text1=input(\"enter the text for checking palindrome:\").lower()#change the string into lower case\n",
    "text2=text1[::-1]#reverse the string\n",
    "if text1==text2:#check the reversestring is equal to entered string\n",
    "    print(f\"Yes it is palindrome and the Entered String is {text1}:\")\n",
    "else:\n",
    "    print(\"it is not palindrome:\")"
   ]
  },
  {
   "cell_type": "code",
   "execution_count": null,
   "id": "9fb600c7-67ce-4848-8c5b-85f062550ea1",
   "metadata": {},
   "outputs": [],
   "source": []
  }
 ],
 "metadata": {
  "kernelspec": {
   "display_name": "Python 3 (ipykernel)",
   "language": "python",
   "name": "python3"
  },
  "language_info": {
   "codemirror_mode": {
    "name": "ipython",
    "version": 3
   },
   "file_extension": ".py",
   "mimetype": "text/x-python",
   "name": "python",
   "nbconvert_exporter": "python",
   "pygments_lexer": "ipython3",
   "version": "3.12.4"
  }
 },
 "nbformat": 4,
 "nbformat_minor": 5
}
